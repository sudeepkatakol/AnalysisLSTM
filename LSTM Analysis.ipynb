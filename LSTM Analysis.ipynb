{
 "cells": [
  {
   "cell_type": "code",
   "execution_count": 1,
   "metadata": {},
   "outputs": [
    {
     "name": "stderr",
     "output_type": "stream",
     "text": [
      "/home/sudeep/.conda/envs/Keras2/lib/python3.6/site-packages/h5py/__init__.py:36: FutureWarning: Conversion of the second argument of issubdtype from `float` to `np.floating` is deprecated. In future, it will be treated as `np.float64 == np.dtype(float).type`.\n",
      "  from ._conv import register_converters as _register_converters\n",
      "Using TensorFlow backend.\n"
     ]
    }
   ],
   "source": [
    "import keras\n",
    "from keras.models import Model, load_model\n",
    "from keras.layers import Dense\n",
    "import keras.backend as K\n",
    "import numpy as np\n",
    "from sklearn.decomposition import PCA\n",
    "import matplotlib.pyplot as plt\n",
    "%matplotlib inline\n",
    "from shakespeare_utils import *"
   ]
  },
  {
   "cell_type": "markdown",
   "metadata": {},
   "source": [
    "## The Model\n",
    "\n",
    "1) Trained for ~1000 epochs on a collection of Shakespearian poems called [\"The Sonnets\"](shakespeare.txt) <br />\n",
    "2) It uses a many to one architecture and predicts the next letter given a sequence of characters. It uses a stack of 2 LSTM layers to do so. <br />\n",
    "\n",
    "**X, Y** represents the raw training set. <br /> \n",
    "**x, y** are the vectorised and encoded versions of X and y resp. <br />\n"
   ]
  },
  {
   "cell_type": "code",
   "execution_count": 2,
   "metadata": {},
   "outputs": [
    {
     "name": "stdout",
     "output_type": "stream",
     "text": [
      "Loading text data...\n",
      "Creating training set...\n",
      "number of training examples: 31412\n",
      "Vectorizing training set...\n",
      "Loading model...\n"
     ]
    },
    {
     "name": "stderr",
     "output_type": "stream",
     "text": [
      "/home/sudeep/.conda/envs/Keras2/lib/python3.6/site-packages/keras/models.py:245: UserWarning: No training configuration found in save file: the model was *not* compiled. Compile it manually.\n",
      "  warnings.warn('No training configuration found in save file: '\n"
     ]
    }
   ],
   "source": [
    "model, Tx, X, Y, x, y, chars, char_indices, indices_char = main()"
   ]
  },
  {
   "cell_type": "code",
   "execution_count": 3,
   "metadata": {},
   "outputs": [
    {
     "name": "stdout",
     "output_type": "stream",
     "text": [
      "_________________________________________________________________\n",
      "Layer (type)                 Output Shape              Param #   \n",
      "=================================================================\n",
      "input_3 (InputLayer)         (None, 40, 38)            0         \n",
      "_________________________________________________________________\n",
      "lstm_5 (LSTM)                (None, 40, 128)           85504     \n",
      "_________________________________________________________________\n",
      "lstm_6 (LSTM)                (None, 128)               131584    \n",
      "_________________________________________________________________\n",
      "dense_3 (Dense)              (None, 38)                4902      \n",
      "_________________________________________________________________\n",
      "activation_3 (Activation)    (None, 38)                0         \n",
      "=================================================================\n",
      "Total params: 221,990\n",
      "Trainable params: 221,990\n",
      "Non-trainable params: 0\n",
      "_________________________________________________________________\n"
     ]
    }
   ],
   "source": [
    "model.summary()"
   ]
  },
  {
   "cell_type": "markdown",
   "metadata": {},
   "source": [
    "<b>Generate a poem using a small input text (< 40 characters)"
   ]
  },
  {
   "cell_type": "code",
   "execution_count": 58,
   "metadata": {
    "scrolled": true
   },
   "outputs": [
    {
     "name": "stdout",
     "output_type": "stream",
     "text": [
      "Write the beginning of your poem, the Shakespeare machine will complete it. Your input is: Sing thee\n",
      "\n",
      "\n",
      "Here is your poem: \n",
      "\n",
      "Sing thee glow',\n",
      "that i enchemgech all to deep:\n",
      "i since if their ladkes happes and love.\n",
      "which hot hereed thees thou thee ussulise:\n",
      "but you and frankl eppett and ibpect is sunf.\n",
      "cithe shinew me conntanting gossed your thes sand,\n",
      "all careing this, thy howe rusk me for mone:\n",
      "and mody consenth' whand thee fild,\n",
      "and medy of thy memury fill in me condert,\n",
      "beriilid do dese views to me gue brows\n",
      "worls thou fart's"
     ]
    }
   ],
   "source": [
    "generate_output(model, Tx, chars, char_indices, indices_char)"
   ]
  },
  {
   "cell_type": "markdown",
   "metadata": {},
   "source": [
    "- - -\n",
    "\n",
    "### Get the parameters from the model"
   ]
  },
  {
   "cell_type": "code",
   "execution_count": 60,
   "metadata": {
    "collapsed": true
   },
   "outputs": [],
   "source": [
    "def get_params(model):\n",
    "    params = {}\n",
    "    for i in range(1, 3):\n",
    "        layer = model.layers[i]\n",
    "\n",
    "        kernel, recurrent_kernel, bias = layer.get_weights()\n",
    "        units = layer.units\n",
    "        print(\"No. of units in LSTM layer\" + str(i) + \" \" +str(units))\n",
    "\n",
    "        kernel_i = kernel[:, :units]\n",
    "        kernel_f = kernel[:, units: units * 2]\n",
    "        kernel_c = kernel[:, units * 2: units * 3]\n",
    "        kernel_o = kernel[:, units * 3:]\n",
    "\n",
    "        recurrent_kernel_i = recurrent_kernel[:, :units]\n",
    "        recurrent_kernel_f = recurrent_kernel[:, units: units * 2]\n",
    "        recurrent_kernel_c = recurrent_kernel[:, units * 2: units * 3]\n",
    "        recurrent_kernel_o = recurrent_kernel[:, units * 3:]\n",
    "\n",
    "        bias_i = bias[:units]\n",
    "        bias_f = bias[units: units * 2]\n",
    "        bias_c = bias[units * 2: units * 3]\n",
    "        bias_o = bias[units * 3:]\n",
    "\n",
    "\n",
    "        params['layer'+str(i)] = {}\n",
    "        params['layer'+str(i)]['kernel_i'] = kernel_i\n",
    "        params['layer'+str(i)]['kernel_f'] = kernel_f\n",
    "        params['layer'+str(i)]['kernel_c'] = kernel_c\n",
    "        params['layer'+str(i)]['kernel_o'] = kernel_o\n",
    "        params['layer'+str(i)]['recurrent_kernel_i'] = recurrent_kernel_i\n",
    "        params['layer'+str(i)]['recurrent_kernel_f'] = recurrent_kernel_f\n",
    "        params['layer'+str(i)]['recurrent_kernel_c'] = recurrent_kernel_c\n",
    "        params['layer'+str(i)]['recurrent_kernel_o'] = recurrent_kernel_o\n",
    "        params['layer'+str(i)]['bias_i'] = bias_i\n",
    "        params['layer'+str(i)]['bias_f'] = bias_f\n",
    "        params['layer'+str(i)]['bias_c'] = bias_c\n",
    "        params['layer'+str(i)]['bias_o'] = bias_o\n",
    "    return params"
   ]
  },
  {
   "cell_type": "code",
   "execution_count": 61,
   "metadata": {},
   "outputs": [
    {
     "name": "stdout",
     "output_type": "stream",
     "text": [
      "No. of units in LSTM layer1 128\n",
      "No. of units in LSTM layer2 128\n"
     ]
    }
   ],
   "source": [
    "params = get_params(model)"
   ]
  },
  {
   "cell_type": "code",
   "execution_count": 7,
   "metadata": {},
   "outputs": [
    {
     "name": "stdout",
     "output_type": "stream",
     "text": [
      "Layer1 paramaters: \n",
      "\t kernel_i (38, 128)\n",
      "\t kernel_f (38, 128)\n",
      "\t kernel_c (38, 128)\n",
      "\t kernel_o (38, 128)\n",
      "\t recurrent_kernel_i (128, 128)\n",
      "\t recurrent_kernel_f (128, 128)\n",
      "\t recurrent_kernel_c (128, 128)\n",
      "\t recurrent_kernel_o (128, 128)\n",
      "\t bias_i (128,)\n",
      "\t bias_f (128,)\n",
      "\t bias_c (128,)\n",
      "\t bias_o (128,)\n",
      "\n",
      "Layer2 paramaters: \n",
      "\t kernel_i (128, 128)\n",
      "\t kernel_f (128, 128)\n",
      "\t kernel_c (128, 128)\n",
      "\t kernel_o (128, 128)\n",
      "\t recurrent_kernel_i (128, 128)\n",
      "\t recurrent_kernel_f (128, 128)\n",
      "\t recurrent_kernel_c (128, 128)\n",
      "\t recurrent_kernel_o (128, 128)\n",
      "\t bias_i (128,)\n",
      "\t bias_f (128,)\n",
      "\t bias_c (128,)\n",
      "\t bias_o (128,)\n"
     ]
    }
   ],
   "source": [
    "print('Layer1 paramaters: ')\n",
    "for key, value in params['layer1'].items():\n",
    "    print(\"\\t\", key, value.shape)\n",
    "\n",
    "print()\n",
    "\n",
    "print('Layer2 paramaters: ')\n",
    "for key, value in params['layer2'].items():\n",
    "    print(\"\\t\", key, value.shape)"
   ]
  },
  {
   "cell_type": "markdown",
   "metadata": {},
   "source": [
    "- - -\n",
    "__Helper function for LSTM Cell__"
   ]
  },
  {
   "cell_type": "code",
   "execution_count": 62,
   "metadata": {
    "collapsed": true
   },
   "outputs": [],
   "source": [
    "def hard_sigmoid(x):\n",
    "    return np.maximum(np.minimum(x*0.2 + 0.5, 1), 0)"
   ]
  },
  {
   "cell_type": "markdown",
   "metadata": {},
   "source": [
    "### LSTM Cell"
   ]
  },
  {
   "cell_type": "code",
   "execution_count": 63,
   "metadata": {
    "collapsed": true
   },
   "outputs": [],
   "source": [
    "def get_intermediate_outputs(inputs, h1_tm1, c1_tm1, h2_tm1, c2_tm1, params, activation=np.tanh, recurrent_activation=hard_sigmoid):\n",
    "        # Layer 1\n",
    "        p = params[\"layer1\"]\n",
    "        \n",
    "        h_tm1 = h1_tm1\n",
    "        c_tm1 = c1_tm1\n",
    "        \n",
    "        x_i = np.dot(inputs, p['kernel_i']) + p['bias_i']\n",
    "        x_f = np.dot(inputs, p['kernel_f']) + p['bias_f']\n",
    "        x_c = np.dot(inputs, p['kernel_c']) + p['bias_c']\n",
    "        x_o = np.dot(inputs, p['kernel_o']) + p['bias_o']\n",
    "        \n",
    "        i = recurrent_activation(x_i + np.dot(h_tm1, p['recurrent_kernel_i']))\n",
    "        f = recurrent_activation(x_f + np.dot(h_tm1, p['recurrent_kernel_f']))\n",
    "        c = f * c_tm1 + i * activation(x_c + np.dot(h_tm1,p['recurrent_kernel_c']))\n",
    "        o = recurrent_activation(x_o + np.dot(h_tm1, p['recurrent_kernel_o']))\n",
    "        \n",
    "        h = o * activation(c)\n",
    "        \n",
    "        # Layer 2 \n",
    "        \n",
    "        p = params[\"layer2\"]\n",
    "            \n",
    "        h_tm1 = h2_tm1\n",
    "        c_tm1 = c2_tm1\n",
    "            \n",
    "        x_i = np.dot(h, p['kernel_i']) + p['bias_i']\n",
    "        x_f = np.dot(h, p['kernel_f']) + p['bias_f']\n",
    "        x_c = np.dot(h, p['kernel_c']) + p['bias_c']\n",
    "        x_o = np.dot(h, p['kernel_o']) + p['bias_o']\n",
    "\n",
    "        I = recurrent_activation(x_i + np.dot(h_tm1, p['recurrent_kernel_i']))\n",
    "        F = recurrent_activation(x_f + np.dot(h_tm1, p['recurrent_kernel_f']))\n",
    "        C = F * c_tm1 + I * activation(x_c + np.dot(h_tm1,p['recurrent_kernel_c']))\n",
    "        O = recurrent_activation(x_o + np.dot(h_tm1, p['recurrent_kernel_o']))\n",
    "\n",
    "        H = O * activation(C)\n",
    "        return H, I, F, C, O, h, i, f, c, o"
   ]
  },
  {
   "cell_type": "markdown",
   "metadata": {},
   "source": [
    "### Forward Propagation"
   ]
  },
  {
   "cell_type": "code",
   "execution_count": 64,
   "metadata": {
    "collapsed": true
   },
   "outputs": [],
   "source": [
    "def one_pass_through_time(inputs, params):\n",
    "    m, Tx, d = inputs.shape\n",
    "    \n",
    "    ht = np.zeros((m, 128)) #  h1_tm1\n",
    "    Ht = np.zeros((m, 128)) #  h2_tm1\n",
    "    ct = np.zeros_like(ht)  #  c1_tm1\n",
    "    Ct = np.zeros_like(Ht)  #  c2_tm1\n",
    "    \n",
    "    h = np.zeros((m, Tx, 128)) #All times\n",
    "    i, f, c, o = np.zeros_like(h), np.zeros_like(h), np.zeros_like(h), np.zeros_like(h)\n",
    "    \n",
    "    H = np.zeros((m, Tx, 128)) #All times\n",
    "    I, F, C, O = np.zeros_like(H), np.zeros_like(H), np.zeros_like(H), np.zeros_like(H)\n",
    "    \n",
    "    for t in range(Tx):\n",
    "        Ht, It, Ft, Ct, Ot, ht, it, ft, ct, ot = get_intermediate_outputs(inputs[:, t, :], ht, ct, Ht, Ct, params)\n",
    "        h[:, t, :] = ht\n",
    "        i[:, t, :] = it\n",
    "        f[:, t, :] = ft\n",
    "        c[:, t, :] = ct\n",
    "        o[:, t, :] = ot\n",
    "        H[:, t, :] = Ht\n",
    "        I[:, t, :] = It\n",
    "        F[:, t, :] = Ft\n",
    "        C[:, t, :] = Ct\n",
    "        O[:, t, :] = Ot\n",
    "    \n",
    "    return H, I, F, C, O, h, i, f, c, o"
   ]
  },
  {
   "cell_type": "markdown",
   "metadata": {},
   "source": [
    "- - -\n",
    "### Analysis\n",
    "\n",
    "* First, pick a index to load an instance from the training dataset. <br />\n",
    "* Obtain all the intermediate gate and memory information across time (Tx = 40 units)"
   ]
  },
  {
   "cell_type": "code",
   "execution_count": 112,
   "metadata": {},
   "outputs": [
    {
     "name": "stdout",
     "output_type": "stream",
     "text": [
      "wn bright eyes,\n",
      "feed'st thy light's flam\n",
      "e\n"
     ]
    }
   ],
   "source": [
    "index = 78\n",
    "print(X[index])\n",
    "print(Y[index])\n",
    "H, I, F, C, O, h, i, f, c, o = one_pass_through_time(x[index:index+1], params)"
   ]
  },
  {
   "cell_type": "code",
   "execution_count": 113,
   "metadata": {},
   "outputs": [
    {
     "name": "stdout",
     "output_type": "stream",
     "text": [
      "C shape  (1, 40, 128)\n",
      "H shape  (1, 40, 128)\n"
     ]
    }
   ],
   "source": [
    "print(\"C shape \", C.shape)\n",
    "print(\"H shape \", H.shape)"
   ]
  },
  {
   "cell_type": "markdown",
   "metadata": {},
   "source": [
    "#### Verification of forward propagation implementation\n",
    "\n",
    "* Obtain the hidden state (h) using the model and compare with the forward propagation output. <br />\n",
    "* Observe that error is neglible"
   ]
  },
  {
   "cell_type": "code",
   "execution_count": 67,
   "metadata": {
    "collapsed": true
   },
   "outputs": [],
   "source": [
    "get_layer1_h = K.function([model.layers[0].input],\n",
    "                                  [model.layers[1].output])\n",
    "get_layer2_h = K.function([model.layers[0].input],\n",
    "                                  [model.layers[2].output])\n",
    "\n",
    "model_h = get_layer1_h([x[index:index+1]])[0]\n",
    "model_H = get_layer2_h([x[index:index+1]])[0]"
   ]
  },
  {
   "cell_type": "code",
   "execution_count": 68,
   "metadata": {},
   "outputs": [
    {
     "name": "stdout",
     "output_type": "stream",
     "text": [
      "4.26100852587985e-07\n",
      "7.44789684446745e-07\n"
     ]
    }
   ],
   "source": [
    "print(np.max(np.absolute(model_h - h)))\n",
    "print(np.max(np.absolute(model_H - H[:, -1, :])))"
   ]
  },
  {
   "cell_type": "markdown",
   "metadata": {},
   "source": [
    "__Check if our forward propagation results to the same prediction as the model. __"
   ]
  },
  {
   "cell_type": "code",
   "execution_count": 54,
   "metadata": {
    "collapsed": true
   },
   "outputs": [],
   "source": [
    "def softmax(x, axis=-1):\n",
    "    x_max = np.max(x, axis=axis, keepdims=True)\n",
    "    x = x - x_max\n",
    "    x = np.exp(x),\n",
    "    return x/(np.sum(x, axis=axis, keepdims=True))"
   ]
  },
  {
   "cell_type": "code",
   "execution_count": 55,
   "metadata": {},
   "outputs": [
    {
     "name": "stdout",
     "output_type": "stream",
     "text": [
      "(128, 38) (38,)\n"
     ]
    }
   ],
   "source": [
    "Wy, by = model.layers[3].get_weights()\n",
    "print(Wy.shape, by.shape)"
   ]
  },
  {
   "cell_type": "code",
   "execution_count": 56,
   "metadata": {},
   "outputs": [
    {
     "name": "stdout",
     "output_type": "stream",
     "text": [
      "12 12\n"
     ]
    }
   ],
   "source": [
    "H_Tx = H[:,Tx-1,:]\n",
    "# print(H_Tx.shape)\n",
    "O_Tx = np.dot(H_Tx, Wy) + by\n",
    "# print(O_Tx.shape)\n",
    "pred1 = np.argmax(softmax(O_Tx))\n",
    "pred2 = model.predict(x[index:index+1])\n",
    "# print(pred2.shape)\n",
    "pred2 = np.argmax(pred2)\n",
    "print(pred1, pred2)"
   ]
  },
  {
   "cell_type": "markdown",
   "metadata": {},
   "source": [
    "- - - -\n",
    "### Obtain 5 features from C, I, F for analysing either by picking them randomly or using PCA."
   ]
  },
  {
   "cell_type": "code",
   "execution_count": 114,
   "metadata": {
    "collapsed": true
   },
   "outputs": [],
   "source": [
    "def transform(C, I, F, n_components=5, mode=\"random\"):\n",
    "    if mode == \"random\":\n",
    "        nodes = np.random.randint(C.shape[1], size=n_components)\n",
    "        print(\"Using nodes: \" + str(nodes))\n",
    "        \n",
    "        C_tr = np.array([C[:, node] for node in nodes]).T\n",
    "        I_tr = np.array([I[:, node] for node in nodes]).T\n",
    "        F_tr = np.array([F[:, node] for node in nodes]).T\n",
    "        \n",
    "        assert(C_tr.shape == (C.shape[0], n_components))\n",
    "    else:\n",
    "        print(\"Using PCA \")\n",
    "        pca = PCA(n_components)\n",
    "        pca.fit(C)\n",
    "        \n",
    "        C_tr = pca.transform(C)\n",
    "        I_tr = pca.transform(I)\n",
    "        F_tr = pca.transform(F)\n",
    "        nodes = ['Component 0', 'Component 1', 'Component 2', 'Component 3', 'Component 4']\n",
    "    return C_tr, I_tr, F_tr, nodes"
   ]
  },
  {
   "cell_type": "code",
   "execution_count": 123,
   "metadata": {},
   "outputs": [
    {
     "name": "stdout",
     "output_type": "stream",
     "text": [
      "Using nodes: [125  88   5  39   4]\n"
     ]
    }
   ],
   "source": [
    "C_tr, I_tr, F_tr, nodes = transform(C[0], I[0], F[0], mode=\"random\")"
   ]
  },
  {
   "cell_type": "markdown",
   "metadata": {},
   "source": [
    "### Visualise "
   ]
  },
  {
   "cell_type": "code",
   "execution_count": 119,
   "metadata": {
    "collapsed": true
   },
   "outputs": [],
   "source": [
    "def plot(C_tr, F_tr, I_tr, t, y_labels, x_labels):\n",
    "    plt.rcdefaults()\n",
    "    fig, ax = plt.subplots(3, t, sharex='all', sharey='row', figsize=(2*t, 4))\n",
    "    fig.suptitle(\"CELL STATE, UPDATE GATE, FORGET GATE v/s TIME\", fontsize=12)\n",
    "    y_pos = np.arange(len(y_labels))\n",
    "\n",
    "    ax[0, 0].set_ylabel(\"Cell State\")\n",
    "    ax[1, 0].set_ylabel(\"Update Gate\")\n",
    "    ax[2, 0].set_ylabel(\"Forget Gate\")\n",
    "    for i in range(t):\n",
    "\n",
    "        ax[0, i].barh(y_pos, C_tr[i], align='center',\n",
    "                color='green')\n",
    "        ax[0, i].set_yticks(y_pos)\n",
    "        ax[0, i].set_yticklabels(y_labels)\n",
    "        #ax[0, i].invert_yaxis()  # labels read top-to-bottom\n",
    "\n",
    "        ax[1, i].barh(y_pos, I_tr[i], align='center',\n",
    "                color='blue', label='I')\n",
    "        ax[1, i].set_yticks(y_pos)\n",
    "        ax[1, i].set_yticklabels(y_labels)\n",
    "        #ax[1, i].invert_yaxis()  # labels read top-to-bottom\n",
    "\n",
    "        ax[2, i].barh(y_pos, F_tr[i], align='center',\n",
    "                color='red', label='F')\n",
    "        ax[2, i].set_yticks(y_pos)\n",
    "        ax[2, i].set_yticklabels(y_labels)\n",
    "        #ax[2, i].invert_yaxis()  # labels read top-to-bottom\n",
    "        ax[2, i].set_xlabel(x_labels[i])\n",
    "        \n",
    "    plt.show()"
   ]
  },
  {
   "cell_type": "code",
   "execution_count": 124,
   "metadata": {
    "scrolled": true
   },
   "outputs": [
    {
     "data": {
      "image/png": "[encoded data removed]",
      "text/plain": [
       "<Figure size 4000x400 with 60 Axes>"
      ]
     },
     "metadata": {},
     "output_type": "display_data"
    }
   ],
   "source": [
    "plot(C_tr, I_tr, F_tr, 20, nodes, X[index])"
   ]
  },
  {
   "cell_type": "markdown",
   "metadata": {},
   "source": [
    "---\n",
    "### Results \n",
    "\n",
    "* More often than not the update gate and the forget gate are negatively correlated. \n",
    "* Cell states change drastically towards the end of a word. \n",
    "* States stay almost the same and/or uniformly across a word.\n",
    "<br/>"
   ]
  },
  {
   "cell_type": "markdown",
   "metadata": {},
   "source": [
    "<img src=\"Result1.png\"\n",
    "     alt=\"Result1\" />"
   ]
  },
  {
   "cell_type": "markdown",
   "metadata": {},
   "source": [
    "<img src=\"Result2.png\"\n",
    "     alt=\"Result2\" />"
   ]
  }
 ],
 "metadata": {
  "kernelspec": {
   "display_name": "Python [conda env:Keras2]",
   "language": "python",
   "name": "conda-env-Keras2-py"
  },
  "language_info": {
   "codemirror_mode": {
    "name": "ipython",
    "version": 3
   },
   "file_extension": ".py",
   "mimetype": "text/x-python",
   "name": "python",
   "nbconvert_exporter": "python",
   "pygments_lexer": "ipython3",
   "version": "3.6.4"
  }
 },
 "nbformat": 4,
 "nbformat_minor": 2
}
